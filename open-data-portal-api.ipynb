{
 "cells": [
  {
   "cell_type": "markdown",
   "metadata": {},
   "source": [
    "# 1. Script details"
   ]
  },
  {
   "cell_type": "markdown",
   "metadata": {},
   "source": [
    "Name of script: OpenDataAPIQuery <br>\n",
    "Description:  Using Python to query the NHSBSA open data portal API. <br>\n",
    "Created by: Ryan Leggett (NHSBSA) <br>\n",
    "Created on: 26-06-2022 <br>\n",
    "Python version: created in 3.8"
   ]
  },
  {
   "cell_type": "markdown",
   "metadata": {},
   "source": [
    "# 2. Load packages"
   ]
  },
  {
   "cell_type": "markdown",
   "metadata": {},
   "source": [
    "List packages we will use"
   ]
  },
  {
   "cell_type": "code",
   "execution_count": null,
   "metadata": {},
   "outputs": [],
   "source": [
    "import grequests\n",
    "import pandas as pd\n",
    "import re\n",
    "import requests\n",
    "import warnings\n",
    "import urllib.parse\n",
    "\n",
    "warnings.simplefilter(\"ignore\", category=UserWarning)"
   ]
  },
  {
   "cell_type": "markdown",
   "metadata": {},
   "source": [
    "Install packages if they aren't already using `Pip/Conda install -r requirements.txt`"
   ]
  },
  {
   "cell_type": "markdown",
   "metadata": {},
   "source": [
    "# 3. Define variablesDefine the url for the API call"
   ]
  },
  {
   "cell_type": "markdown",
   "metadata": {},
   "source": [
    "Define the url for the API call"
   ]
  },
  {
   "cell_type": "code",
   "execution_count": null,
   "metadata": {},
   "outputs": [],
   "source": [
    "base_endpoint = 'https://opendata.nhsbsa.net/api/3/action/'\n",
    "package_list_method = 'package_list'     # List of data-sets in the portal\n",
    "package_show_method = 'package_show?id=' # List all resources of a data-set\n",
    "action_method = 'datastore_search_sql?'  # SQL action method"
   ]
  },
  {
   "cell_type": "markdown",
   "metadata": {},
   "source": [
    "Send API call to get list of data-sets"
   ]
  },
  {
   "cell_type": "code",
   "execution_count": null,
   "metadata": {},
   "outputs": [],
   "source": [
    "datasets_response = requests.get(base_endpoint +  package_list_method).json()"
   ]
  },
  {
   "cell_type": "markdown",
   "metadata": {},
   "source": [
    "Now lets have a look at the data-sets currently available"
   ]
  },
  {
   "cell_type": "code",
   "execution_count": null,
   "metadata": {},
   "outputs": [],
   "source": [
    "print(datasets_response['result'])"
   ]
  },
  {
   "cell_type": "markdown",
   "metadata": {},
   "source": [
    "For this example we're interested in the English Prescribing Dataset (EPD).\n",
    "We know the name of this data-set so can set this manually, or access it \n",
    "from datasets_response."
   ]
  },
  {
   "cell_type": "code",
   "execution_count": null,
   "metadata": {},
   "outputs": [],
   "source": [
    "dataset_id = \"english-prescribing-data-epd\""
   ]
  },
  {
   "cell_type": "markdown",
   "metadata": {},
   "source": [
    "# 4. API calls for single month"
   ]
  },
  {
   "cell_type": "markdown",
   "metadata": {},
   "source": [
    "Define the parameters for the SQL query"
   ]
  },
  {
   "cell_type": "code",
   "execution_count": null,
   "metadata": {},
   "outputs": [],
   "source": [
    "resource_name = 'EPD_202001' # For EPD resources are named EPD_YYYYMM\n",
    "pco_code = '13T00' # Newcastle Gateshead CCG\n",
    "bnf_chemical_substance = '0407010H0' # Paracetamol"
   ]
  },
  {
   "cell_type": "markdown",
   "metadata": {},
   "source": [
    "Build SQL query (WHERE criteria should be enclosed in single quotes)"
   ]
  },
  {
   "cell_type": "code",
   "execution_count": null,
   "metadata": {},
   "outputs": [],
   "source": [
    "single_month_query = \"SELECT * \" \\\n",
    "                     f\"FROM `{resource_name}` \" \\\n",
    "                     f\"WHERE pco_code = '{pco_code}' \" \\\n",
    "                     f\"AND bnf_chemical_substance = '{bnf_chemical_substance}'\""
   ]
  },
  {
   "cell_type": "markdown",
   "metadata": {},
   "source": [
    "Build API call"
   ]
  },
  {
   "cell_type": "code",
   "execution_count": null,
   "metadata": {},
   "outputs": [],
   "source": [
    "single_month_api_call = f\"{base_endpoint}\" \\\n",
    "                        f\"{action_method}\" \\\n",
    "                        \"resource_id=\" \\\n",
    "                        f\"{resource_name}\" \\\n",
    "                        \"&\" \\\n",
    "                        \"sql=\" \\\n",
    "                        f\"{urllib.parse.quote(single_month_query)}\" # Encode spaces in the url"
   ]
  },
  {
   "cell_type": "markdown",
   "metadata": {},
   "source": [
    "Grab the response JSON as a list"
   ]
  },
  {
   "cell_type": "code",
   "execution_count": null,
   "metadata": {},
   "outputs": [],
   "source": [
    "single_month_response = requests.get(single_month_api_call).json()"
   ]
  },
  {
   "cell_type": "markdown",
   "metadata": {},
   "source": [
    "Extract records in the response to a dataframe"
   ]
  },
  {
   "cell_type": "code",
   "execution_count": null,
   "metadata": {},
   "outputs": [],
   "source": [
    "single_month_df  = pd.json_normalize(single_month_response['result']['result']['records'])"
   ]
  },
  {
   "cell_type": "markdown",
   "metadata": {},
   "source": [
    "Lets have a quick look at the data"
   ]
  },
  {
   "cell_type": "code",
   "execution_count": null,
   "metadata": {},
   "outputs": [],
   "source": [
    "single_month_df.head()"
   ]
  },
  {
   "cell_type": "markdown",
   "metadata": {},
   "source": [
    "You can use any of the fields listed in the data-set within the SQL query as \n",
    "part of the select or in the where clause in order to filter.\n",
    "\n",
    "Information on the fields present in a data-set and an accompanying data \n",
    "dictionary can be found on the page for the relevant data-set on the Open Data \n",
    "Portal."
   ]
  },
  {
   "cell_type": "markdown",
   "metadata": {},
   "source": [
    "# 5. API calls for data for multiple months"
   ]
  },
  {
   "cell_type": "markdown",
   "metadata": {},
   "source": [
    "Now that you have extracted data for a single month, you may want to get the \n",
    "data for several months, or a whole year.\n",
    "\n",
    "Firstly we need to get a list of all of the names and resource IDs for every \n",
    "EPD file. We therefore extract the metadata for the EPD dataset."
   ]
  },
  {
   "cell_type": "code",
   "execution_count": null,
   "metadata": {},
   "outputs": [],
   "source": [
    "metadata_repsonse  = requests.get(f\"{base_endpoint}\" \\\n",
    "                                  f\"{package_show_method}\" \\\n",
    "                                  f\"{dataset_id}\").json()"
   ]
  },
  {
   "cell_type": "markdown",
   "metadata": {},
   "source": [
    "Resource names and IDs are kept within the resources table returned from the \n",
    "package_show_method call."
   ]
  },
  {
   "cell_type": "code",
   "execution_count": null,
   "metadata": {},
   "outputs": [],
   "source": [
    "resources_table  = pd.json_normalize(metadata_repsonse['result']['resources'])"
   ]
  },
  {
   "cell_type": "markdown",
   "metadata": {},
   "source": [
    "We only want data for one calendar year, to do this we need to look at the \n",
    "name of the data-set to identify the year. For this example we're looking at \n",
    "2020."
   ]
  },
  {
   "cell_type": "code",
   "execution_count": null,
   "metadata": {},
   "outputs": [],
   "source": [
    "resource_name_list = resources_table[resources_table['name'].str.contains('2020')]['name']"
   ]
  },
  {
   "cell_type": "markdown",
   "metadata": {},
   "source": [
    "## 5.1. For loop"
   ]
  },
  {
   "cell_type": "markdown",
   "metadata": {},
   "source": [
    "We can do this with a for loop that makes all of the individual API calls for \n",
    "you and combines the data together into one dataframe\n",
    "\n",
    "Initialise dataframe that data will be saved to"
   ]
  },
  {
   "cell_type": "code",
   "execution_count": null,
   "metadata": {},
   "outputs": [],
   "source": [
    "for_loop_df = pd.DataFrame()"
   ]
  },
  {
   "cell_type": "markdown",
   "metadata": {},
   "source": [
    "As each individual month of EPD data is so large it will be unlikely that your \n",
    "local system will have enough RAM to hold a full year's worth of data in \n",
    "memory. Therefore we will only look at a single CCG and chemical substance as \n",
    "we did previously\n",
    "\n",
    "Loop through resource_name_list and make call to API to extract data, then \n",
    "bind each month together to make a single data-set"
   ]
  },
  {
   "cell_type": "code",
   "execution_count": null,
   "metadata": {},
   "outputs": [],
   "source": [
    "for month in resource_name_list:\n",
    "    \n",
    "    # Build temporary SQL query\n",
    "    tmp_query = \"SELECT * \" \\\n",
    "                f\"FROM `{month}` \" \\\n",
    "                f\"WHERE pco_code = '{pco_code}' \" \\\n",
    "                f\"AND bnf_chemical_substance = '{bnf_chemical_substance}'\"\n",
    "    \n",
    "    # Build temporary API call\n",
    "    tmp_api_call  = f\"{base_endpoint}\" \\\n",
    "                    f\"{action_method}\" \\\n",
    "                    \"resource_id=\" \\\n",
    "                    f\"{month}\" \\\n",
    "                    \"&\" \\\n",
    "                    \"sql=\" \\\n",
    "                    f\"{urllib.parse.quote(tmp_query)}\" # Encode spaces in the url\n",
    "    \n",
    "    # Grab the response JSON as a temporary list\n",
    "    tmp_response = requests.get(tmp_api_call).json()\n",
    "    \n",
    "    # Extract records in the response to a temporary dataframe\n",
    "    tmp_df = pd.json_normalize(tmp_response['result']['result']['records'])\n",
    "    \n",
    "    # Bind the temporary data to the main dataframe\n",
    "    for_loop_df = for_loop_df.append(tmp_df)"
   ]
  },
  {
   "cell_type": "markdown",
   "metadata": {},
   "source": [
    "Lets have a quick look at the data"
   ]
  },
  {
   "cell_type": "code",
   "execution_count": null,
   "metadata": {},
   "outputs": [],
   "source": [
    "for_loop_df.head()"
   ]
  },
  {
   "cell_type": "markdown",
   "metadata": {},
   "source": [
    "## 5.2. Async"
   ]
  },
  {
   "cell_type": "markdown",
   "metadata": {},
   "source": [
    "We can call the API asynchronously and this will result in an approx 10x speed \n",
    "increase over a for loop for large resource_names by vectorising our approach.\n",
    "\n",
    "Construct the SQL query as a function"
   ]
  },
  {
   "cell_type": "code",
   "execution_count": null,
   "metadata": {},
   "outputs": [],
   "source": [
    "def async_query(resource_name):\n",
    "    query = \"SELECT * \" \\\n",
    "            f\"FROM `{resource_name}` \" \\\n",
    "            f\"WHERE pco_code = '{pco_code}' \" \\\n",
    "            f\"AND bnf_chemical_substance = '{bnf_chemical_substance}'\"\n",
    "    return(query)"
   ]
  },
  {
   "cell_type": "markdown",
   "metadata": {},
   "source": [
    "Create the API calls"
   ]
  },
  {
   "cell_type": "code",
   "execution_count": null,
   "metadata": {},
   "outputs": [],
   "source": [
    "async_api_calls = []\n",
    "for x in resource_name_list:\n",
    "    async_api_calls.append(\n",
    "        f\"{base_endpoint}\" \\\n",
    "        f\"{action_method}\" \\\n",
    "        \"resource_id=\" \\\n",
    "        f\"{x}\" \\\n",
    "        \"&\" \\\n",
    "        \"sql=\" \\\n",
    "        f\"{urllib.parse.quote(async_query(x))}\" # Encode spaces in the url \n",
    "    )"
   ]
  },
  {
   "cell_type": "markdown",
   "metadata": {},
   "source": [
    "Use grequests to get the results"
   ]
  },
  {
   "cell_type": "code",
   "execution_count": null,
   "metadata": {},
   "outputs": [],
   "source": [
    "dd = (grequests.get(u) for u in async_api_calls)\n",
    "res = grequests.map(dd)"
   ]
  },
  {
   "cell_type": "markdown",
   "metadata": {},
   "source": [
    "Check that everything is a success"
   ]
  },
  {
   "cell_type": "code",
   "execution_count": null,
   "metadata": {},
   "outputs": [],
   "source": [
    "for x in res:\n",
    "    if x.ok:\n",
    "        print(True)\n",
    "    else:\n",
    "        print(False)"
   ]
  },
  {
   "cell_type": "markdown",
   "metadata": {},
   "source": [
    "Parse the output into a list of dataframes and concatenate the results"
   ]
  },
  {
   "cell_type": "code",
   "execution_count": null,
   "metadata": {},
   "outputs": [],
   "source": [
    "async_df = pd.DataFrame()\n",
    "\n",
    "for x in res:\n",
    "    # Grab the response JSON as a temporary list\n",
    "    tmp_response = x.json()\n",
    "    \n",
    "    # Extract records in the response to a temporary dataframe\n",
    "    tmp_df = pd.json_normalize(tmp_response['result']['result']['records'])\n",
    "    \n",
    "    # Bind the temporary data to the main dataframe\n",
    "    async_df = async_df.append(tmp_df)"
   ]
  },
  {
   "cell_type": "markdown",
   "metadata": {},
   "source": [
    "Lets have a quick look at the data"
   ]
  },
  {
   "cell_type": "code",
   "execution_count": null,
   "metadata": {},
   "outputs": [],
   "source": [
    "async_df.head()"
   ]
  },
  {
   "cell_type": "markdown",
   "metadata": {},
   "source": [
    "# 6. Export the data"
   ]
  },
  {
   "cell_type": "code",
   "execution_count": null,
   "metadata": {},
   "outputs": [],
   "source": [
    "single_month_df.to_csv('single_month.csv')\n",
    "for_loop_df.to_csv('for_loop.csv')\n",
    "async_df.to_csv('async.csv')"
   ]
  }
 ],
 "metadata": {
  "kernelspec": {
   "display_name": "Python 3",
   "language": "python",
   "name": "python3"
  },
  "language_info": {
   "codemirror_mode": {
    "name": "ipython",
    "version": 3
   },
   "file_extension": ".py",
   "mimetype": "text/x-python",
   "name": "python",
   "nbconvert_exporter": "python",
   "pygments_lexer": "ipython3",
   "version": "3.8.5"
  }
 },
 "nbformat": 4,
 "nbformat_minor": 4
}
