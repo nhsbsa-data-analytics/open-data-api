{
 "cells": [
  {
   "cell_type": "code",
   "execution_count": null,
   "metadata": {},
   "outputs": [],
   "source": [
    "import requests\n",
    "import urllib.parse"
   ]
  },
  {
   "cell_type": "code",
   "execution_count": null,
   "metadata": {},
   "outputs": [],
   "source": [
    "# Define the url for the API call\n",
    "base_endpoint = \"https://opendata.nhsbsa.net/api/3/action/\"\n",
    "package_list_method = \"package_list\"     # List of data-sets in the portal\n",
    "package_show_method = \"package_show?id=\" # List all resources of a data-set\n",
    "action_method = \"datastore_search_sql?\"  # SQL action method"
   ]
  },
  {
   "cell_type": "code",
   "execution_count": null,
   "metadata": {},
   "outputs": [],
   "source": [
    "# Send API call to get list of data-sets\n",
    "datasets_response = requests.get(base_endpoint +  package_list_method).json()"
   ]
  },
  {
   "cell_type": "code",
   "execution_count": null,
   "metadata": {},
   "outputs": [],
   "source": [
    "# Now lets have a look at the data-sets currently available\n",
    "print(datasets_response['result'])"
   ]
  },
  {
   "cell_type": "code",
   "execution_count": null,
   "metadata": {},
   "outputs": [],
   "source": [
    "# For this example we're interested in the English Prescribing Dataset (EPD).\n",
    "# We know the name of this data-set so can set this manually, or access it \n",
    "# from datasets_response.\n",
    "dataset_id = \"english-prescribing-data-epd\""
   ]
  },
  {
   "cell_type": "code",
   "execution_count": null,
   "metadata": {},
   "outputs": [],
   "source": [
    "# Define the parameters for the SQL query\n",
    "resource_name = \"EPD_202001\" # For EPD resources are named EPD_YYYYMM\n",
    "pco_code = \"13T00\" # Newcastle Gateshead CCG\n",
    "bnf_chemical_substance = \"0407010H0\" # Paracetamol"
   ]
  },
  {
   "cell_type": "code",
   "execution_count": null,
   "metadata": {},
   "outputs": [],
   "source": [
    "# Build SQL query (WHERE criteria should be enclosed in single quotes)\n",
    "single_month_query = \"SELECT * \" \\\n",
    "                     f\"FROM `{resource_name}` \" \\\n",
    "                     f\"WHERE pco_code = '{pco_code}' \" \\\n",
    "                     f\"AND bnf_chemical_substance = '{bnf_chemical_substance}'\""
   ]
  },
  {
   "cell_type": "code",
   "execution_count": null,
   "metadata": {},
   "outputs": [],
   "source": [
    "# Build API call\n",
    "single_month_api_call = f\"{base_endpoint}\" \\\n",
    "                        f\"{action_method}\" \\\n",
    "                        \"resource_id=\" \\\n",
    "                        f\"{resource_name}\" \\\n",
    "                        \"&\" \\\n",
    "                        \"sql=\" \\\n",
    "                        f\"{urllib.parse.quote(single_month_query)}\" # Encode spaces in the url"
   ]
  },
  {
   "cell_type": "code",
   "execution_count": null,
   "metadata": {},
   "outputs": [],
   "source": [
    "# Grab the response JSON as a list\n",
    "single_month_response = requests.get(single_month_api_call).json()"
   ]
  }
 ],
 "metadata": {
  "kernelspec": {
   "display_name": "Python 3",
   "language": "python",
   "name": "python3"
  },
  "language_info": {
   "codemirror_mode": {
    "name": "ipython",
    "version": 3
   },
   "file_extension": ".py",
   "mimetype": "text/x-python",
   "name": "python",
   "nbconvert_exporter": "python",
   "pygments_lexer": "ipython3",
   "version": "3.8.5"
  }
 },
 "nbformat": 4,
 "nbformat_minor": 4
}
